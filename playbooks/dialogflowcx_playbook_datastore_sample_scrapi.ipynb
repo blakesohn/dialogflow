{
  "cells": [
    {
      "cell_type": "markdown",
      "id": "4744df2f",
      "metadata": {},
      "source": [
        "Dialogflow CX (Conversational Agent Console) 의 Simulator 에서는 Tool Output 이 비교적 간단하게 표시가 되므로, Response 에서 Citation 정보 등 자세한 내용은 확인이 어렵다. 실제 application 구현 단계에서 활용할 수 있는 Dialogflow CX Library 를 활용하면 내부적으로 response 로 넘겨지는 데이터를 확인할 수 있다.\n",
        "\n",
        "이 Sample은 Dialogflow CX Library 를 한번 더 패키징한 SCRAPI 라이브러리를 활용하여 확인한 샘플이다. 아래 작업을 수행하기 전에 관련 Playbook과 Datastore 는 미리 생성되어 있어야 한다."
      ]
    },
    {
      "cell_type": "code",
      "execution_count": 26,
      "id": "jrGUF3SFkKmzG88GVHbYSFi9",
      "metadata": {
        "id": "jrGUF3SFkKmzG88GVHbYSFi9",
        "tags": []
      },
      "outputs": [],
      "source": [
        "# Dialogflow Client SCRAPI 사용\n",
        "!pip install dfcx-scrapi>=1.10.5 --quiet\n",
        "\n",
        "from google.colab import auth\n",
        "from google.auth import default\n"
      ]
    },
    {
      "cell_type": "markdown",
      "id": "e7f6e01d",
      "metadata": {},
      "source": [
        "Dialogflow의 Agent ID 는 Conversational Agent 의 console 화면 URL 에서 쉽게 확인할 수 있다."
      ]
    },
    {
      "cell_type": "code",
      "execution_count": 24,
      "id": "r3P5fj8MGTqe",
      "metadata": {
        "id": "r3P5fj8MGTqe"
      },
      "outputs": [],
      "source": [
        "# Agent ID 식별해서 넣기\n",
        "agent_id = \"projects/{my-project-id}/locations/{location}/agents/{my-agent-id}\""
      ]
    },
    {
      "cell_type": "code",
      "execution_count": null,
      "id": "KM3aJWsZHQCm",
      "metadata": {
        "colab": {
          "base_uri": "https://localhost:8080/"
        },
        "id": "KM3aJWsZHQCm",
        "outputId": "f5188d77-00ce-486f-e04e-770b6960fbbc"
      },
      "outputs": [],
      "source": [
        "from dfcx_scrapi.core.sessions import Sessions\n",
        "\n",
        "session = Sessions()\n",
        "session_id = session.build_session_id(agent_id)\n",
        "print(session_id)\n",
        "\n",
        "res = session.detect_intent(agent_id, session_id, '데이터스토어에서 검색할 넣을 질문을 여기에 넣으세요')"
      ]
    },
    {
      "cell_type": "markdown",
      "id": "172737cb",
      "metadata": {},
      "source": [
        "Datastore 에서 가져온 결과는 아래 구조에서 가져올 수 있으며, Citation 이 포함된 snippets 은 아래와 같이 확인할 수 있다."
      ]
    },
    {
      "cell_type": "code",
      "execution_count": null,
      "id": "ItfHo_-IPIfS",
      "metadata": {
        "colab": {
          "base_uri": "https://localhost:8080/"
        },
        "id": "ItfHo_-IPIfS",
        "outputId": "ed9f216f-6245-43b6-ad3b-b0cb674bb677"
      },
      "outputs": [],
      "source": [
        "res.data_store_connection_signals.cited_snippets"
      ]
    },
    {
      "cell_type": "markdown",
      "id": "7f93ddc2",
      "metadata": {},
      "source": [
        "실제 답변은 아래와 같이 꺼내 사용할 수 있다."
      ]
    },
    {
      "cell_type": "code",
      "execution_count": null,
      "id": "HZ3eJx3pSW_Z",
      "metadata": {
        "colab": {
          "base_uri": "https://localhost:8080/",
          "height": 87
        },
        "id": "HZ3eJx3pSW_Z",
        "outputId": "5b2e58a7-0fa6-40f5-8102-5d76e04fa2d1"
      },
      "outputs": [],
      "source": [
        "res.data_store_connection_signals.answer"
      ]
    }
  ],
  "metadata": {
    "colab": {
      "name": "beomsoo (Jan 22, 2025, 5:15:30 PM)",
      "provenance": []
    },
    "kernelspec": {
      "display_name": "Python 3",
      "language": "python",
      "name": "python3"
    },
    "language_info": {
      "codemirror_mode": {
        "name": "ipython",
        "version": 3
      },
      "file_extension": ".py",
      "mimetype": "text/x-python",
      "name": "python",
      "nbconvert_exporter": "python",
      "pygments_lexer": "ipython3",
      "version": "3.10.10"
    }
  },
  "nbformat": 4,
  "nbformat_minor": 5
}
